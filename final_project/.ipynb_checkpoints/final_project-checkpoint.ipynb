{
 "cells": [
  {
   "cell_type": "code",
   "execution_count": 1,
   "metadata": {},
   "outputs": [],
   "source": [
    "import cv2\n",
    "import numpy as np\n",
    "import sys\n",
    "import matplotlib.pyplot as plt\n",
    "import math"
   ]
  },
  {
   "cell_type": "code",
   "execution_count": 66,
   "metadata": {},
   "outputs": [
    {
     "data": {
      "text/plain": [
       "(1280, 960)"
      ]
     },
     "execution_count": 66,
     "metadata": {},
     "output_type": "execute_result"
    }
   ],
   "source": [
    "imagen = cv2.imread(\"grama_3.jpeg\")\n",
    "imagen = cv2.cvtColor(imagen,cv2.COLOR_BGR2GRAY)\n",
    "imagen.shape"
   ]
  },
  {
   "cell_type": "markdown",
   "metadata": {},
   "source": [
    "# grass image\n",
    "\n",
    "<img src=\"grama_2.jpg\" />\n",
    "\n",
    "# grass image 2\n",
    "\n",
    "\n",
    "\n",
    "<img src=\"grama_3.jpeg\" />"
   ]
  },
  {
   "cell_type": "code",
   "execution_count": 52,
   "metadata": {},
   "outputs": [],
   "source": [
    "def convolutional_filter(imagen, kernel):\n",
    "    alto = imagen.shape[0]\n",
    "    ancho =  imagen.shape[1]\n",
    "    \n",
    "    altoKernel = len(kernel[:,0])\n",
    "    anchoKernel = len(kernel[0,:])\n",
    "\n",
    "    #parte entera del centro del kernel\n",
    "    step = int(len(kernel[0,:])/2)\n",
    "\n",
    "    newImg = np.zeros((alto, ancho, 1))\n",
    "    \n",
    "    for i in range(step, alto - step):\n",
    "        newPixel = 0\n",
    "        for j in range(step, ancho - step):\n",
    "            ventana = imagen[i-step:i+2*step, j-step:j+2*step]\n",
    "            newPixel = 0\n",
    "            for m in range(0, altoKernel):\n",
    "                for n in range(0, anchoKernel):\n",
    "                    newPixel = newPixel + ventana[m, n] * kernel[m, n]\n",
    "            newImg[i, j] = int(newPixel)\n",
    "    \n",
    "    return newImg\n",
    "\n",
    "#usando la convolución.\n",
    "kernelGauss_33 = np.array([[1/16., 2/16., 1/16.], [2/16., 4/16., 2/16.], [1/16., 2/16., 1/16.]])\n",
    "filtrada = convolutional_filter(imagen, kernelGauss_33)"
   ]
  },
  {
   "cell_type": "code",
   "execution_count": 53,
   "metadata": {},
   "outputs": [],
   "source": [
    "def derivadaX(imagen):\n",
    "    #image = cv2.imread(img)\n",
    "    #image = cv2.cvtColor(image,cv2.COLOR_BGR2GRAY)\n",
    "    height = imagen.shape[0]\n",
    "    width = imagen.shape[1]\n",
    "    out = np.zeros((height,width,1))\n",
    "    \n",
    "    for i in range(0,height - 1):\n",
    "        for j in range(0,width):\n",
    "            out[i,j] = imagen[i+1,j] - imagen[i,j]\n",
    "    \n",
    "    return(out)\n",
    "            "
   ]
  },
  {
   "cell_type": "code",
   "execution_count": 54,
   "metadata": {},
   "outputs": [],
   "source": [
    "def derivadaY(imagen):\n",
    "    #image = cv2.imread(img)\n",
    "    #image = cv2.cvtColor(image,cv2.COLOR_BGR2GRAY)\n",
    "    height = imagen.shape[0]\n",
    "    width = imagen.shape[1]\n",
    "    out = np.zeros((height,width,1))\n",
    "    \n",
    "    for i in range(0,height):\n",
    "        for j in range(0,width-1):\n",
    "            out[i,j] = imagen[i,j+1] - imagen[i,j]\n",
    "    \n",
    "    return(out)\n",
    "            "
   ]
  },
  {
   "cell_type": "code",
   "execution_count": 55,
   "metadata": {},
   "outputs": [],
   "source": [
    "def derivadaY(imagen):\n",
    "    #image = cv2.imread(img)\n",
    "    #image = cv2.cvtColor(image,cv2.COLOR_BGR2GRAY)\n",
    "    height = imagen.shape[0]\n",
    "    width = imagen.shape[1]\n",
    "    out = np.zeros((height,width,1))\n",
    "    \n",
    "    for i in range(0,height):\n",
    "        for j in range(0,width-1):\n",
    "            out[i,j] = imagen[i,j+1] - imagen[i,j]\n",
    "    \n",
    "    return(out)\n",
    "            "
   ]
  },
  {
   "cell_type": "code",
   "execution_count": 56,
   "metadata": {},
   "outputs": [],
   "source": [
    "def gradient(x, y):\n",
    "    height = x.shape[0]\n",
    "    width = x.shape[1]\n",
    "    \n",
    "    out = np.zeros((height, width, 1))\n",
    "\n",
    "    for i in range(0, height):\n",
    "        for j in range(0, width):\n",
    "            out[i,j] = np.sqrt(x[i,j]**2 + y[i,j]**2)\n",
    "    \n",
    "    return(out)"
   ]
  },
  {
   "cell_type": "code",
   "execution_count": 57,
   "metadata": {},
   "outputs": [],
   "source": [
    "def phase(derX,derY):\n",
    "    height = derX.shape[0]\n",
    "    width = derY.shape[1]\n",
    "    out = np.zeros((height,width,1))\n",
    "    \n",
    "\n",
    "    \n",
    "    for i in range(0, height):\n",
    "        for j in range(0, width):\n",
    "            out[i,j] = np.where((math.atan2(derY[i,j], derX[i,j]) * (180/np.pi))<0,\n",
    "                               (math.atan2(derY[i,j], derX[i,j]) * (180/np.pi))+360,\n",
    "                               (math.atan2(derY[i,j], derX[i,j]) * (180/np.pi)))\n",
    "    \n",
    "    return out"
   ]
  },
  {
   "cell_type": "code",
   "execution_count": 58,
   "metadata": {},
   "outputs": [],
   "source": [
    "def non_max_supress(image,phase):\n",
    "    #image = cv2.imread(img)\n",
    "    #image = cv2.cvtColor(image,cv2.COLOR_BGR2GRAY)\n",
    "        \n",
    "\n",
    "    \n",
    "    \n",
    "    height = image.shape[0]\n",
    "    width = image.shape[1]\n",
    "    out = np.zeros((height,width))\n",
    "    \n",
    "    for i in range(1, height - 2):\n",
    "        for j in range(1, width -2):\n",
    "            ang = phase[i,j]\n",
    "            \n",
    "            ### 337.5 - 22.5 or 157.5 -202.5\n",
    "            if(((ang > 337.5 and ang <= 360) or (ang > 0 and ang <= 22.5)) or ( ang > 157.5 and ang <= 202.5)):\n",
    "                \n",
    "                if (image[i,j] > image[i,j+1]) and (image[i,j] > image[i,j-1]):\n",
    "                    out[i,j] = image[i,j]\n",
    "                else:\n",
    "                    out[i,j] = 0\n",
    "\n",
    "                        \n",
    "            ###22.5 - 67.5 or 202.5 - 247.5\n",
    "            elif((ang > 22.5 and ang <= 67.5) or ( ang > 202.5 and ang <= 247.5)):\n",
    "                \n",
    "                if (image[i,j] > image[i+1,j-1]) and (image[i,j] > image[i-1,j+1]):\n",
    "                    out[i,j] = image[i,j]\n",
    "                else:\n",
    "                    out[i,j] = 0\n",
    "\n",
    "                       ###67.5 - 112.5 or 247.5 - 292.5\n",
    "            elif((ang > 67.5 and ang <= 112.5) or ( ang > 247.5 and ang <= 292.5)):\n",
    "                \n",
    "                if (image[i,j] > image[i-1,j]) and (image[i,j] > image[i+1,j]):\n",
    "                    out[i,j] = image[i,j]\n",
    "                else:\n",
    "                    out[i,j] = 0\n",
    "            \n",
    "            \n",
    "            ### 112.5 - 157.5 or 292.5 - 337.5\n",
    "            elif((ang > 112.5 and ang <= 157.5) or ( ang > 292.5 and ang <= 337.5)):\n",
    "                \n",
    "                if (image[i,j] > image[i-1,j-1]) and (image[i,j] > image[i+1,j+1]):\n",
    "                    out[i,j] = image[i,j]\n",
    "                else:\n",
    "                    out[i,j] = 0\n",
    "\n",
    "    \n",
    "\n",
    " \n",
    "    cv2.imwrite(\"ms.jpg\",out)\n",
    "    #canny = cv2.imread(\"cannycarnonconv.jpg\")     \n",
    "    #cv2.imshow('Resultado',canny)  \n",
    "\n",
    "\n",
    "    #cv2.waitKey(0)\n",
    "    #cv2.destroyAllWindows()\n",
    "    #sys.exit()                    \n",
    "          \n",
    "    return(out)       \n",
    "            \n",
    "            \n",
    "            \n",
    "            \n",
    "    \n",
    "    \n",
    "    \n",
    "                \n",
    "            "
   ]
  },
  {
   "cell_type": "code",
   "execution_count": 67,
   "metadata": {},
   "outputs": [],
   "source": [
    "filtrada = convolutional_filter(imagen, kernelGauss_33)\n",
    "dX = derivadaX(filtrada)\n",
    "dY = derivadaY(filtrada)\n",
    "gradiente = gradient(dX,dY)\n",
    "fase = phase(dX,dY)"
   ]
  },
  {
   "cell_type": "code",
   "execution_count": 68,
   "metadata": {},
   "outputs": [],
   "source": [
    "nm = non_max_supress(gradiente,fase)"
   ]
  },
  {
   "cell_type": "code",
   "execution_count": 69,
   "metadata": {},
   "outputs": [],
   "source": [
    "def binarization(image, threshold):\n",
    "\n",
    "    \n",
    "    height = image.shape[0]\n",
    "    width = image.shape[1]\n",
    "    \n",
    "    out = np.where(image<=threshold,0,255)\n",
    "    \n",
    "    #writing image\n",
    "    cv2.imwrite(\"binary_image.jpg\", out)\n",
    "    binary_image = cv2.imread(\"binary_image.jpg\")\n",
    "    \n",
    "    \n",
    "    #result image\n",
    "    cv2.imwrite(\"resultado_final_2.jpg\", binary_image)\n",
    "    return(binary_image)"
   ]
  },
  {
   "cell_type": "code",
   "execution_count": 70,
   "metadata": {},
   "outputs": [],
   "source": [
    "binary = binarization(nm, 40)"
   ]
  },
  {
   "cell_type": "markdown",
   "metadata": {},
   "source": [
    "# Canny transformation completed\n",
    "\n",
    "## grass image 1\n",
    "\n",
    "<img src=\"resultado_final.jpg\" />\n",
    "\n"
   ]
  },
  {
   "cell_type": "markdown",
   "metadata": {},
   "source": [
    "\n",
    "## grass image 2 \n",
    "\n",
    "<img src=\"resultado_final_2.jpg\" />"
   ]
  },
  {
   "cell_type": "markdown",
   "metadata": {},
   "source": [
    "# Conteo de pixeles blancos.\n"
   ]
  },
  {
   "cell_type": "code",
   "execution_count": 48,
   "metadata": {},
   "outputs": [
    {
     "name": "stdout",
     "output_type": "stream",
     "text": [
      "Total de Pixeles Blancos: 189975\n"
     ]
    }
   ],
   "source": [
    "n_white_pix = np.sum(binary == 255)\n",
    "print('Total de Pixeles Blancos:', n_white_pix)"
   ]
  },
  {
   "cell_type": "markdown",
   "metadata": {},
   "source": [
    "## Tamaño de un tallo en la imagen "
   ]
  },
  {
   "cell_type": "markdown",
   "metadata": {},
   "source": [
    "<img src=\"tallo.png\" />"
   ]
  },
  {
   "cell_type": "code",
   "execution_count": 40,
   "metadata": {},
   "outputs": [
    {
     "data": {
      "text/plain": [
       "(33, 18, 3)"
      ]
     },
     "execution_count": 40,
     "metadata": {},
     "output_type": "execute_result"
    }
   ],
   "source": [
    "tallo = cv2.imread(\"tallo.png\")\n",
    "tallo.shape"
   ]
  },
  {
   "cell_type": "code",
   "execution_count": 43,
   "metadata": {},
   "outputs": [],
   "source": [
    "tallo_size = tallo.shape[1]*tallo.shape[2]"
   ]
  },
  {
   "cell_type": "code",
   "execution_count": 42,
   "metadata": {},
   "outputs": [
    {
     "data": {
      "text/plain": [
       "18"
      ]
     },
     "execution_count": 42,
     "metadata": {},
     "output_type": "execute_result"
    }
   ],
   "source": [
    "tallo.shape[1]"
   ]
  },
  {
   "cell_type": "code",
   "execution_count": 45,
   "metadata": {},
   "outputs": [
    {
     "data": {
      "text/plain": [
       "3518.0"
      ]
     },
     "execution_count": 45,
     "metadata": {},
     "output_type": "execute_result"
    }
   ],
   "source": [
    "round(n_white_pix / tallo_size)"
   ]
  },
  {
   "cell_type": "code",
   "execution_count": 73,
   "metadata": {},
   "outputs": [],
   "source": [
    "def hough_transformation(img_color, minDist, outputName):\n",
    "    img_file_str = img_color\n",
    "    img = cv2.imread(img_file_str)\n",
    "    output = img.copy()\n",
    "    gray = cv2.cvtColor(img, cv2.COLOR_BGR2GRAY)\n",
    "\n",
    "    #canny_out = cv2.Canny(gray, 50, 200)\n",
    "\n",
    "    circles = cv2.HoughCircles(\n",
    "        gray, \n",
    "        cv2.HOUGH_GRADIENT,\n",
    "        1.2,\n",
    "        minDist\n",
    "    )\n",
    "\n",
    "    if circles is not None:\n",
    "        # convert the (x, y) coordinates and radius of the circles to integers\n",
    "        circles = np.round(circles[0, :]).astype(\"int\")\n",
    " \n",
    "        # loop over the (x, y) coordinates and radius of the circles\n",
    "        for (x, y, r) in circles:\n",
    "            # draw the circle in the output image, then draw a rectangle\n",
    "            # corresponding to the center of the circle\n",
    "            cv2.circle(output, (x, y), r, (0, 255, 0), 4)\n",
    "            cv2.rectangle(output, (x - 5, y - 5), (x + 5, y + 5), (0, 128, 255), -1)\n",
    "    cv2.imwrite(outputName+'.jpg', np.hstack([img, output]))"
   ]
  },
  {
   "cell_type": "code",
   "execution_count": null,
   "metadata": {},
   "outputs": [],
   "source": [
    "hough_transformation(\"grama_3.jpeg\",5,\"test.jpg\")"
   ]
  },
  {
   "cell_type": "code",
   "execution_count": null,
   "metadata": {},
   "outputs": [],
   "source": []
  }
 ],
 "metadata": {
  "kernelspec": {
   "display_name": "Python 3",
   "language": "python",
   "name": "python3"
  },
  "language_info": {
   "codemirror_mode": {
    "name": "ipython",
    "version": 3
   },
   "file_extension": ".py",
   "mimetype": "text/x-python",
   "name": "python",
   "nbconvert_exporter": "python",
   "pygments_lexer": "ipython3",
   "version": "3.7.3"
  }
 },
 "nbformat": 4,
 "nbformat_minor": 2
}
