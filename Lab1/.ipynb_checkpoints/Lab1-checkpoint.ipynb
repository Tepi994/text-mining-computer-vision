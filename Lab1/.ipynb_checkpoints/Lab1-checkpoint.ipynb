{
 "cells": [
  {
   "cell_type": "markdown",
   "metadata": {},
   "source": [
    "# Importing Libraries "
   ]
  },
  {
   "cell_type": "code",
   "execution_count": 1,
   "metadata": {},
   "outputs": [],
   "source": [
    "import cv2\n",
    "import numpy as np\n",
    "import sys"
   ]
  },
  {
   "cell_type": "markdown",
   "metadata": {},
   "source": [
    "#Image to be used for all problems\n",
    "\n",
    "<img src=\"atitlan.jpg\" />\n"
   ]
  },
  {
   "cell_type": "markdown",
   "metadata": {},
   "source": [
    "# Problem 1: Extracting each RGB channel from image "
   ]
  },
  {
   "cell_type": "code",
   "execution_count": 318,
   "metadata": {},
   "outputs": [],
   "source": [
    "def channels(image,color):\n",
    "    imgStr = image\n",
    "    img =cv2.imread(imgStr)\n",
    "    height = img.shape[0]\n",
    "    width = img.shape[1]\n",
    "    channels = img.shape[2]\n",
    "    out = np.zeros((height,width,3))\n",
    "    \n",
    "    if color == 1:\n",
    "        for i in range(height):\n",
    "            for j in range(width):\n",
    "                pixel = img[i,j]\n",
    "                \n",
    "            \n",
    "                blue = pixel[0]\n",
    "                out[i,j]=[blue,0,0]\n",
    "        cv2.imshow(\"blue channel\",out)   \n",
    "        print(\"azul\")\n",
    "        \n",
    "        \n",
    "    elif color == 2:\n",
    "        for i in range(height):\n",
    "            for j in range(width):\n",
    "                pixel = img[i,j]\n",
    "                \n",
    "            \n",
    "                green = pixel[1]\n",
    "                out[i,j]=[0,green,0]\n",
    "        cv2.imshow(\"green channel\",out)   \n",
    "        print(\"verde\")\n",
    "                \n",
    "    elif color == 3:\n",
    "        for i in range(height):\n",
    "            for j in range(width):\n",
    "                pixel = img[i,j]\n",
    "                \n",
    "            \n",
    "                red = pixel[2]\n",
    "                out[i,j]=[0,0,red]\n",
    "        cv2.imshow(\"red channel\",out)   \n",
    "        print(\"rojo\")\n",
    "        \n",
    "    elif color == 10:\n",
    "        for i in range(height):\n",
    "            for j in range(width):\n",
    "                pixel = img[i,j]\n",
    "                \n",
    "            \n",
    "                green = pixel[1]\n",
    "                red = pixel[2]\n",
    "                out[i,j]=[0,green,red]\n",
    "        cv2.imshow(\"green and red channel\",out)   \n",
    "        \n",
    "        \n",
    "        \n",
    "        print(\"rojo y verde\")\n",
    "    elif color == 20:\n",
    "        for i in range(height):\n",
    "            for j in range(width):\n",
    "                pixel = img[i,j]\n",
    "                \n",
    "            \n",
    "                green = pixel[1]\n",
    "                blue = pixel[0]\n",
    "                out[i,j]=[blue,green,0]\n",
    "        cv2.imshow(\"green and blue channel\",out)  \n",
    "        print(\"verde y azul\")\n",
    "    elif color == 30:\n",
    "        for i in range(height):\n",
    "            for j in range(width):\n",
    "                pixel = img[i,j]\n",
    "                \n",
    "            \n",
    "                blue = pixel[0]\n",
    "                red = pixel[2]\n",
    "                out[i,j]=[blue,0,red]\n",
    "        cv2.imshow(\"blue and red channel\",out)  \n",
    "        print(\"azul y rojo\")\n",
    "    else:\n",
    "        print(\"try again\") \n",
    "        \n",
    "    cv2.waitKey(0)\n",
    "    cv2.destroyAllWindows()\n",
    "    sys.exit()"
   ]
  },
  {
   "cell_type": "code",
   "execution_count": 319,
   "metadata": {},
   "outputs": [
    {
     "name": "stdout",
     "output_type": "stream",
     "text": [
      "rojo\n"
     ]
    },
    {
     "ename": "SystemExit",
     "evalue": "",
     "output_type": "error",
     "traceback": [
      "An exception has occurred, use %tb to see the full traceback.\n",
      "\u001b[1;31mSystemExit\u001b[0m\n"
     ]
    }
   ],
   "source": [
    "channels(\"atitlan.jpg\",3)"
   ]
  },
  {
   "cell_type": "markdown",
   "metadata": {},
   "source": [
    "## Problem 3: Image creation from RGB components"
   ]
  },
  {
   "cell_type": "code",
   "execution_count": 123,
   "metadata": {},
   "outputs": [],
   "source": [
    "salida_azul = \"imagen2\\imagen2_salida_gray_azul.jpg\"\n",
    "salida_rojo =\"imagen2\\imagen2_salida_gray_rojo.jpg\"\n",
    "salida_verde =\"imagen2\\imagen2_salida_gray_verde.jpg\"\n",
    "salida_azul1 = \"imagen1\\imagen1_salida_gray_azul.jpg\"\n",
    "salida_rojo1 =\"imagen1\\imagen1_salida_gray_rojo.jpg\"\n",
    "salida_verde1 =\"imagen1\\imagen1_salida_gray_verde.jpg\"\n",
    "\n",
    "\n",
    "img_azul = cv2.imread(salida_azul)\n",
    "img_verde = cv2.imread(salida_verde)\n",
    "img_rojo = cv2.imread(salida_rojo)"
   ]
  },
  {
   "cell_type": "code",
   "execution_count": 339,
   "metadata": {},
   "outputs": [],
   "source": [
    "def image_creation(blue_image,green_image,red_image):\n",
    "    blue = cv2.imread(blue_image)\n",
    "    green = cv2.imread(green_image)\n",
    "    red = cv2.imread(red_image)\n",
    "    RGB = np.zeros((blue.shape[0], blue.shape[1], blue.shape[2]),) \n",
    "    ##slicing to avoid for loops \n",
    "    RGB[:,:,0] = blue[:,:,0]\n",
    "    RGB[:,:,1] = green[:,:,0]\n",
    "    RGB[:,:,2] = red[:,:,0]\n",
    "    \n",
    "    cv2.imwrite(\"resultado.jpg\",RGB)\n",
    "    image = cv2.imread(\"resultado.jpg\")     \n",
    "    cv2.imshow('Resultado',image)  \n",
    "\n",
    "\n",
    "    cv2.waitKey(0)\n",
    "    cv2.destroyAllWindows()\n",
    "    sys.exit()\n",
    "    "
   ]
  },
  {
   "cell_type": "code",
   "execution_count": 338,
   "metadata": {},
   "outputs": [
    {
     "ename": "SystemExit",
     "evalue": "",
     "output_type": "error",
     "traceback": [
      "An exception has occurred, use %tb to see the full traceback.\n",
      "\u001b[1;31mSystemExit\u001b[0m\n"
     ]
    }
   ],
   "source": [
    "image_creation(salida_azul,salida_verde,salida_rojo)"
   ]
  },
  {
   "cell_type": "markdown",
   "metadata": {},
   "source": [
    "<img src=\"resultado.jpg\" />"
   ]
  },
  {
   "cell_type": "code",
   "execution_count": 328,
   "metadata": {},
   "outputs": [
    {
     "ename": "SystemExit",
     "evalue": "",
     "output_type": "error",
     "traceback": [
      "An exception has occurred, use %tb to see the full traceback.\n",
      "\u001b[1;31mSystemExit\u001b[0m\n"
     ]
    }
   ],
   "source": [
    "image_creation(salida_azul1,salida_verde1,salida_rojo1)"
   ]
  },
  {
   "cell_type": "markdown",
   "metadata": {},
   "source": [
    "## Problem 3: Image decomposition to gray_scale mapping each RGB channel to complementary channels"
   ]
  },
  {
   "cell_type": "code",
   "execution_count": 134,
   "metadata": {},
   "outputs": [],
   "source": [
    "def image_decomposition(img):\n",
    "    image = cv2.imread(img)\n",
    "    \n",
    "    blue  = np.zeros((image.shape[0], image.shape[1], 3), \"uint8\") \n",
    "    green = np.zeros((image.shape[0], image.shape[1], 3), \"uint8\") \n",
    "    red   = np.zeros((image.shape[0], image.shape[1], 3), \"uint8\") \n",
    "    \n",
    "    #### blue gray scale\n",
    "    blue[:,:,0] = image[:,:,0]\n",
    "    blue[:,:,1] = image[:,:,0]\n",
    "    blue[:,:,2] = image[:,:,0]\n",
    "    \n",
    "    #### green gray scale\n",
    "    green[:,:,0] = image[:,:,1]\n",
    "    green[:,:,1] = image[:,:,1]\n",
    "    green[:,:,2] = image[:,:,1]\n",
    "    \n",
    "     ####red gray scale\n",
    "    red[:,:,0] = image[:,:,1]\n",
    "    red[:,:,1] = image[:,:,1]\n",
    "    red[:,:,2] = image[:,:,1]\n",
    "\n",
    "    ####writing the images to disk\n",
    "    \n",
    "    ###green gray scale image\n",
    "    cv2.imwrite(\"green_scale.jpg\",green)\n",
    "    green_scale = cv2.imread(\"green_scale.jpg\")     \n",
    "    cv2.imshow('green gray scale',green_scale)\n",
    "    \n",
    "    ###blue gray scale image\n",
    "    cv2.imwrite(\"blue_scale.jpg\",blue)\n",
    "    blue_scale = cv2.imread(\"blue_scale.jpg\")     \n",
    "    cv2.imshow('blue gray scale',blue_scale)\n",
    "    \n",
    "    ###red gray scale image\n",
    "    cv2.imwrite(\"red_scale.jpg\",red)\n",
    "    red_scale = cv2.imread(\"red_scale.jpg\")     \n",
    "    cv2.imshow('red gray scale',red_scale)\n",
    "        \n",
    "\n",
    "\n",
    "    cv2.waitKey(0)\n",
    "    cv2.destroyAllWindows()\n",
    "    sys.exit()\n",
    "    \n",
    "    "
   ]
  },
  {
   "cell_type": "code",
   "execution_count": 299,
   "metadata": {},
   "outputs": [
    {
     "ename": "SystemExit",
     "evalue": "",
     "output_type": "error",
     "traceback": [
      "An exception has occurred, use %tb to see the full traceback.\n",
      "\u001b[1;31mSystemExit\u001b[0m\n"
     ]
    }
   ],
   "source": [
    "image_decomposition(\"atitlan.jpg\")"
   ]
  },
  {
   "cell_type": "markdown",
   "metadata": {},
   "source": [
    "### gray scale image using blue pixels \n",
    "\n",
    "<img src=\"blue_scale.jpg\" />"
   ]
  },
  {
   "cell_type": "markdown",
   "metadata": {},
   "source": [
    "### gray scale image using red pixels \n",
    "\n",
    "<img src=\"red_scale.jpg\" />"
   ]
  },
  {
   "cell_type": "markdown",
   "metadata": {},
   "source": [
    "### gray scale image using green pixels \n",
    "\n",
    "<img src=\"green_scale.jpg\" />"
   ]
  },
  {
   "cell_type": "markdown",
   "metadata": {},
   "source": [
    "## Problem 4: Histograms of RGB Channels"
   ]
  },
  {
   "cell_type": "code",
   "execution_count": 145,
   "metadata": {},
   "outputs": [],
   "source": [
    "import matplotlib.pyplot as plt"
   ]
  },
  {
   "cell_type": "code",
   "execution_count": 200,
   "metadata": {},
   "outputs": [],
   "source": [
    "imgStr = \"atitlan.jpg\"\n",
    "img = cv2.imread(imgStr)\n"
   ]
  },
  {
   "cell_type": "code",
   "execution_count": 212,
   "metadata": {},
   "outputs": [
    {
     "data": {
      "image/png": "[encoded data removed]",
      "text/plain": [
       "<Figure size 432x288 with 1 Axes>"
      ]
     },
     "metadata": {
      "needs_background": "light"
     },
     "output_type": "display_data"
    }
   ],
   "source": [
    "vals = img.mean(axis=0).flatten()\n",
    "counts, bins = np.histogram(vals, range(257))\n",
    "# plot histogram centered on values 0..255\n",
    "plt.bar(bins[:-1] - 0.5, counts, width=1, edgecolor='none')\n",
    "plt.xlim([-0.5, 255.5])\n",
    "plt.show()"
   ]
  },
  {
   "cell_type": "code",
   "execution_count": 214,
   "metadata": {},
   "outputs": [
    {
     "data": {
      "image/png": "[encoded data removed]",
      "text/plain": [
       "<Figure size 432x288 with 1 Axes>"
      ]
     },
     "metadata": {
      "needs_background": "light"
     },
     "output_type": "display_data"
    }
   ],
   "source": [
    "img_blue = img[:,:,2].flatten()\n",
    "counts, bins = np.histogram(img_blue, range(257))\n",
    "plt.bar(bins[:-1] - 0.5, counts, width=1, edgecolor='none')\n",
    "plt.xlim([-0.5, 255.5])\n",
    "plt.show()"
   ]
  },
  {
   "cell_type": "code",
   "execution_count": 203,
   "metadata": {},
   "outputs": [
    {
     "data": {
      "text/plain": [
       "array([[38, 38, 38, ..., 22, 22, 22],\n",
       "       [39, 39, 39, ..., 22, 22, 22],\n",
       "       [39, 39, 39, ..., 23, 23, 23],\n",
       "       ...,\n",
       "       [11, 11, 13, ...,  1,  1,  1],\n",
       "       [13, 13, 13, ...,  0,  0,  0],\n",
       "       [13, 13, 13, ...,  0,  0,  0]], dtype=uint8)"
      ]
     },
     "execution_count": 203,
     "metadata": {},
     "output_type": "execute_result"
    }
   ],
   "source": [
    "img_blue = img[:,:,2]\n",
    "img_blue"
   ]
  },
  {
   "cell_type": "code",
   "execution_count": 260,
   "metadata": {},
   "outputs": [],
   "source": [
    "def image_histogram(img):\n",
    "    image = cv2.imread(img)\n",
    "    blue_component = image[:,:,0].flatten()\n",
    "    green_component = image[:,:,1].flatten()\n",
    "    red_component = image[:,:,2].flatten()\n",
    "    #gray_scale_component = (blue_component + green_component + red_component)/3\n",
    "    gray_scale_component = np.mean( np.array([ blue_component, red_component, green_component]), axis= 0 )\n",
    "    #print(blue_component[1],red_component[1],green_component[1],gray_scale_component[1])\n",
    "    \n",
    "    ####blue histogram####\n",
    "    blue_counts, blue_bins = np.histogram(blue_component, range(257))\n",
    "    plt.bar(blue_bins[:-1] - 0.5, blue_counts, width=1, edgecolor='none',color='blue')\n",
    "    plt.xlim([-0.5, 255.5])\n",
    "    plt.axvline(blue_component.mean(), color='k', linestyle='dashed', linewidth=2)\n",
    "    plt.title(\"Blue Channel Histogram\")\n",
    "    plt.show()\n",
    "    \n",
    "    ####green histogram####\n",
    "    green_counts, green_bins = np.histogram(green_component, range(257))\n",
    "    plt.bar(green_bins[:-1] - 0.5, green_counts, width=1, edgecolor='none', color='green')\n",
    "    plt.axvline(green_component.mean(), color='k', linestyle='dashed', linewidth=2)\n",
    "    plt.xlim([-0.5, 255.5])\n",
    "    plt.title(\"Green Channel Histogram\")\n",
    "    plt.show()\n",
    "\n",
    "    \n",
    "     ####red histogram####\n",
    "    red_counts, red_bins = np.histogram(red_component, range(257))\n",
    "    plt.bar(red_bins[:-1] - 0.5, red_counts, width=1, edgecolor='none',color='red')\n",
    "    plt.axvline(red_component.mean(), color='k', linestyle='dashed', linewidth=2)\n",
    "    plt.xlim([-0.5, 255.5])\n",
    "    plt.title(\"Red Channel Histogram\")\n",
    "    plt.show()\n",
    "    \n",
    "    ####gray_scale histogram####\n",
    "    gray_scale_counts, gray_scale_bins = np.histogram(gray_scale_component, range(257))\n",
    "    plt.bar(gray_scale_bins[:-1] - 0.5, gray_scale_counts, width=1, edgecolor='none',color ='gray')\n",
    "    plt.axvline(gray_scale_component.mean(), color='k', linestyle='dashed', linewidth=2)\n",
    "    plt.xlim([-0.5, 255.5])\n",
    "    plt.title(\"Grayscale Channel Histogram\")\n",
    "    plt.show()\n",
    "\n",
    "\n",
    "   "
   ]
  },
  {
   "cell_type": "code",
   "execution_count": 261,
   "metadata": {},
   "outputs": [
    {
     "data": {
      "image/png": "[encoded data removed]",
      "text/plain": [
       "<Figure size 432x288 with 1 Axes>"
      ]
     },
     "metadata": {
      "needs_background": "light"
     },
     "output_type": "display_data"
    },
    {
     "data": {
      "image/png": "[encoded data removed]",
      "text/plain": [
       "<Figure size 432x288 with 1 Axes>"
      ]
     },
     "metadata": {
      "needs_background": "light"
     },
     "output_type": "display_data"
    },
    {
     "data": {
      "image/png": "[encoded data removed]",
      "text/plain": [
       "<Figure size 432x288 with 1 Axes>"
      ]
     },
     "metadata": {
      "needs_background": "light"
     },
     "output_type": "display_data"
    },
    {
     "data": {
      "image/png": "[encoded data removed]",
      "text/plain": [
       "<Figure size 432x288 with 1 Axes>"
      ]
     },
     "metadata": {
      "needs_background": "light"
     },
     "output_type": "display_data"
    }
   ],
   "source": [
    "image_histogram(\"atitlan.jpg\")"
   ]
  },
  {
   "cell_type": "markdown",
   "metadata": {},
   "source": [
    "## Problem 5 : Weighted Gray Scale using the Luminosity Method\n",
    "\n",
    "Since red color has more wavelength of all the three colors, and green is the color that has not only less wavelength then red color but also green is the color that gives more soothing effect to the eyes.\n",
    "\n",
    "It means that we have to decrease the contribution of red color, and increase the contribution of the green color, and put blue color contribution in between these two.\n",
    "\n",
    "So the new equation that form is:\n",
    "\n",
    "New grayscale image = ( (0.3 * R) + (0.59 * G) + (0.11 * B) ).\n",
    "\n",
    "According to this equation, Red has contribute 30%, Green has contributed 59% which is greater in all three colors and Blue has contributed 11%\n",
    "\n"
   ]
  },
  {
   "cell_type": "code",
   "execution_count": 295,
   "metadata": {},
   "outputs": [],
   "source": [
    "def gray_scale(img):\n",
    "    image = cv2.imread(img)\n",
    "    blue_component = image[:,:,0]\n",
    "    green_component = image[:,:,1]\n",
    "    red_component = image[:,:,2]\n",
    "    \n",
    "    gray_scale_component = (0.11*blue_component + 0.59*green_component + 0.3*red_component)\n",
    "    \n",
    "    \n",
    "    ####gray_scale histogram####\n",
    "    gray_scale_counts, gray_scale_bins = np.histogram(gray_scale_component, range(257))\n",
    "    plt.bar(gray_scale_bins[:-1] - 0.5, gray_scale_counts, width=1, edgecolor='none',color ='gray')\n",
    "    plt.axvline(gray_scale_component.mean(), color='k', linestyle='dashed', linewidth=2)\n",
    "    plt.xlim([-0.5, 255.5])\n",
    "    plt.title(\"Weighted Grayscale Channel Histogram\")\n",
    "    plt.show()\n",
    "    \n",
    "    \n",
    "    cv2.imwrite(\"gray_scale_weighted.jpg\",gray_scale_component)\n",
    "    gray_image = cv2.imread(\"gray_scale_weighted.jpg\")     \n",
    "    cv2.imshow('Weighted grayscale image',gray_image)\n",
    "    cv2.waitKey(0)\n",
    "    cv2.destroyAllWindows()\n",
    "    sys.exit()\n",
    "    "
   ]
  },
  {
   "cell_type": "code",
   "execution_count": 297,
   "metadata": {},
   "outputs": [
    {
     "data": {
      "image/png": "[encoded data removed]",
      "text/plain": [
       "<Figure size 432x288 with 1 Axes>"
      ]
     },
     "metadata": {
      "needs_background": "light"
     },
     "output_type": "display_data"
    },
    {
     "ename": "SystemExit",
     "evalue": "",
     "output_type": "error",
     "traceback": [
      "An exception has occurred, use %tb to see the full traceback.\n",
      "\u001b[1;31mSystemExit\u001b[0m\n"
     ]
    }
   ],
   "source": [
    "gray_scale(\"atitlan.jpg\")"
   ]
  },
  {
   "cell_type": "markdown",
   "metadata": {},
   "source": [
    "### Weighted grayscale image using luminosity method\n",
    "\n",
    "<img src=\"gray_scale_weighted.jpg\" />"
   ]
  },
  {
   "cell_type": "markdown",
   "metadata": {},
   "source": [
    "# Problem 6: HSV Color Space "
   ]
  },
  {
   "cell_type": "markdown",
   "metadata": {},
   "source": [
    "The HSV model is a color space that maps the **Hue** , **Saturation**, and **Value** of color. The maximum and minimum value of the hue map the same value (red). It is known that HSV space is closer to how humans perceive color. \n",
    "\n",
    "Therefore, we can see this space as a cylinder where the hue is the rotation around the center, the saturation is the proximity to the center, and the value is represented by the relative height of the point in the cylinder.\n",
    "\n",
    "\n",
    "\n",
    "<img src=\"HSV.png\" />\n",
    "\n",
    "\n",
    "#### HUE\n",
    "\n",
    "Hue is the color portion of the model, expressed as a number from 0 to 360 degrees:\n",
    "\n",
    "- Red falls between 0 and 60 degrees.\n",
    "- Yellow falls between 61 and 120 degrees.\n",
    "- Green falls between 121-180 degrees.\n",
    "- Cyan falls between 181-240 degrees.\n",
    "- Blue falls between 241-300 degrees.\n",
    "- Magenta falls between 301-360 degrees.\n",
    "\n",
    "#### Saturation\n",
    "\n",
    "- Saturation tells the amount of gray in a particular color. It ranges from 0 to 100 percent.\n",
    "\n",
    "#### Value (Brightness)\n",
    "\n",
    "- Works with conjunction with saturation and describes the intensity of color. It ranges from 0 to 100 percent.\n"
   ]
  },
  {
   "cell_type": "code",
   "execution_count": null,
   "metadata": {},
   "outputs": [],
   "source": []
  }
 ],
 "metadata": {
  "kernelspec": {
   "display_name": "Python 3",
   "language": "python",
   "name": "python3"
  },
  "language_info": {
   "codemirror_mode": {
    "name": "ipython",
    "version": 3
   },
   "file_extension": ".py",
   "mimetype": "text/x-python",
   "name": "python",
   "nbconvert_exporter": "python",
   "pygments_lexer": "ipython3",
   "version": "3.7.3"
  }
 },
 "nbformat": 4,
 "nbformat_minor": 2
}
