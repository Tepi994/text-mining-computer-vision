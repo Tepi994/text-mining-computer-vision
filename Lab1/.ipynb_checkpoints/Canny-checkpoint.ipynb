{
 "cells": [
  {
   "cell_type": "code",
   "execution_count": 1,
   "metadata": {},
   "outputs": [],
   "source": [
    "import cv2\n",
    "import numpy as np\n",
    "import sys\n",
    "import matplotlib.pyplot as plt\n",
    "import math"
   ]
  },
  {
   "cell_type": "code",
   "execution_count": 2,
   "metadata": {},
   "outputs": [],
   "source": [
    "imagen = cv2.imread(\"car.jpg\")\n",
    "imagen = cv2.cvtColor(imagen,cv2.COLOR_BGR2GRAY)"
   ]
  },
  {
   "cell_type": "code",
   "execution_count": 3,
   "metadata": {},
   "outputs": [],
   "source": [
    "def convolutional_filter(imagen, kernel):\n",
    "    alto = imagen.shape[0]\n",
    "    ancho =  imagen.shape[1]\n",
    "    \n",
    "    altoKernel = len(kernel[:,0])\n",
    "    anchoKernel = len(kernel[0,:])\n",
    "\n",
    "    #parte entera del centro del kernel\n",
    "    step = int(len(kernel[0,:])/2)\n",
    "\n",
    "    newImg = np.zeros((alto, ancho, 1))\n",
    "    \n",
    "    for i in range(step, alto - step):\n",
    "        newPixel = 0\n",
    "        for j in range(step, ancho - step):\n",
    "            ventana = imagen[i-step:i+2*step, j-step:j+2*step]\n",
    "            newPixel = 0\n",
    "            for m in range(0, altoKernel):\n",
    "                for n in range(0, anchoKernel):\n",
    "                    newPixel = newPixel + ventana[m, n] * kernel[m, n]\n",
    "            newImg[i, j] = int(newPixel)\n",
    "    \n",
    "    return newImg\n",
    "\n",
    "#usando la convolución.\n",
    "kernelGauss_33 = np.array([[1/16., 2/16., 1/16.], [2/16., 4/16., 2/16.], [1/16., 2/16., 1/16.]])\n",
    "filtrada = convolutional_filter(imagen, kernelGauss_33)"
   ]
  },
  {
   "cell_type": "code",
   "execution_count": 4,
   "metadata": {},
   "outputs": [],
   "source": [
    "def derivadaX(imagen):\n",
    "    #image = cv2.imread(img)\n",
    "    #image = cv2.cvtColor(image,cv2.COLOR_BGR2GRAY)\n",
    "    height = imagen.shape[0]\n",
    "    width = imagen.shape[1]\n",
    "    out = np.zeros((height,width,1))\n",
    "    \n",
    "    for i in range(0,height - 1):\n",
    "        for j in range(0,width):\n",
    "            out[i,j] = imagen[i+1,j] - imagen[i,j]\n",
    "    \n",
    "    return(out)\n",
    "            \n",
    "      "
   ]
  },
  {
   "cell_type": "code",
   "execution_count": 5,
   "metadata": {},
   "outputs": [],
   "source": [
    "def derivadaY(imagen):\n",
    "    #image = cv2.imread(img)\n",
    "    #image = cv2.cvtColor(image,cv2.COLOR_BGR2GRAY)\n",
    "    height = imagen.shape[0]\n",
    "    width = imagen.shape[1]\n",
    "    out = np.zeros((height,width,1))\n",
    "    \n",
    "    for i in range(0,height):\n",
    "        for j in range(0,width-1):\n",
    "            out[i,j] = imagen[i,j+1] - imagen[i,j]\n",
    "    \n",
    "    return(out)\n",
    "            \n",
    "     "
   ]
  },
  {
   "cell_type": "code",
   "execution_count": 6,
   "metadata": {},
   "outputs": [],
   "source": [
    "def gradient(x, y):\n",
    "    height = x.shape[0]\n",
    "    width = x.shape[1]\n",
    "    \n",
    "    out = np.zeros((height, width, 1))\n",
    "\n",
    "    for i in range(0, height):\n",
    "        for j in range(0, width):\n",
    "            out[i,j] = np.sqrt(x[i,j]**2 + y[i,j]**2)\n",
    "    \n",
    "    return(out)"
   ]
  },
  {
   "cell_type": "code",
   "execution_count": 7,
   "metadata": {},
   "outputs": [],
   "source": [
    "def phase(derX,derY):\n",
    "    height = derX.shape[0]\n",
    "    width = derY.shape[1]\n",
    "    out = np.zeros((height,width,1))\n",
    "    \n",
    "\n",
    "    \n",
    "    for i in range(0, height):\n",
    "        for j in range(0, width):\n",
    "            out[i,j] = np.where((math.atan2(derY[i,j], derX[i,j]) * (180/np.pi))<0,\n",
    "                               (math.atan2(derY[i,j], derX[i,j]) * (180/np.pi))+360,\n",
    "                               (math.atan2(derY[i,j], derX[i,j]) * (180/np.pi)))\n",
    "    \n",
    "    return out"
   ]
  },
  {
   "cell_type": "code",
   "execution_count": 8,
   "metadata": {},
   "outputs": [],
   "source": [
    "def non_max_supress(image,phase):\n",
    "    #image = cv2.imread(img)\n",
    "    #image = cv2.cvtColor(image,cv2.COLOR_BGR2GRAY)\n",
    "        \n",
    "\n",
    "    \n",
    "    \n",
    "    height = image.shape[0]\n",
    "    width = image.shape[1]\n",
    "    out = np.zeros((height,width))\n",
    "    \n",
    "    for i in range(1, height - 2):\n",
    "        for j in range(1, width -2):\n",
    "            ang = phase[i,j]\n",
    "            \n",
    "            ### 337.5 - 22.5 or 157.5 -202.5\n",
    "            if(((ang > 337.5 and ang <= 360) or (ang > 0 and ang <= 22.5)) or ( ang > 157.5 and ang <= 202.5)):\n",
    "                \n",
    "                if (image[i,j] > image[i,j+1]) and (image[i,j] > image[i,j-1]):\n",
    "                    out[i,j] = image[i,j]\n",
    "                else:\n",
    "                    out[i,j] = 0\n",
    "\n",
    "                        \n",
    "            ###22.5 - 67.5 or 202.5 - 247.5\n",
    "            elif((ang > 22.5 and ang <= 67.5) or ( ang > 202.5 and ang <= 247.5)):\n",
    "                \n",
    "                if (image[i,j] > image[i+1,j-1]) and (image[i,j] > image[i-1,j+1]):\n",
    "                    out[i,j] = image[i,j]\n",
    "                else:\n",
    "                    out[i,j] = 0\n",
    "\n",
    "                       ###67.5 - 112.5 or 247.5 - 292.5\n",
    "            elif((ang > 67.5 and ang <= 112.5) or ( ang > 247.5 and ang <= 292.5)):\n",
    "                \n",
    "                if (image[i,j] > image[i-1,j]) and (image[i,j] > image[i+1,j]):\n",
    "                    out[i,j] = image[i,j]\n",
    "                else:\n",
    "                    out[i,j] = 0\n",
    "            \n",
    "            \n",
    "            ### 112.5 - 157.5 or 292.5 - 337.5\n",
    "            elif((ang > 112.5 and ang <= 157.5) or ( ang > 292.5 and ang <= 337.5)):\n",
    "                \n",
    "                if (image[i,j] > image[i-1,j-1]) and (image[i,j] > image[i+1,j+1]):\n",
    "                    out[i,j] = image[i,j]\n",
    "                else:\n",
    "                    out[i,j] = 0\n",
    "\n",
    "    \n",
    "\n",
    " \n",
    "    cv2.imwrite(\"ms.jpg\",out)\n",
    "    #canny = cv2.imread(\"cannycarnonconv.jpg\")     \n",
    "    #cv2.imshow('Resultado',canny)  \n",
    "\n",
    "\n",
    "    #cv2.waitKey(0)\n",
    "    #cv2.destroyAllWindows()\n",
    "    #sys.exit()                    \n",
    "          \n",
    "    return(out)       \n",
    "            \n",
    "            \n",
    "            \n",
    "            \n",
    "    \n",
    "    \n",
    "    \n",
    "                \n",
    "            \n",
    "     "
   ]
  },
  {
   "cell_type": "code",
   "execution_count": 9,
   "metadata": {},
   "outputs": [],
   "source": [
    "dX = derivadaX(filtrada)\n",
    "dY = derivadaY(filtrada)\n",
    "gradiente = gradient(dX,dY)\n",
    "fase = phase(dX,dY)"
   ]
  },
  {
   "cell_type": "code",
   "execution_count": 10,
   "metadata": {},
   "outputs": [],
   "source": [
    "nm = non_max_supress(gradiente,fase)"
   ]
  },
  {
   "cell_type": "code",
   "execution_count": 13,
   "metadata": {},
   "outputs": [],
   "source": [
    "def binarization(image, threshold):\n",
    "\n",
    "    \n",
    "    height = image.shape[0]\n",
    "    width = image.shape[1]\n",
    "    \n",
    "    out = np.where(image<=threshold,0,255)\n",
    "    \n",
    "    #writing image\n",
    "    cv2.imwrite(\"binary_image.jpg\", out)\n",
    "    binary_image = cv2.imread(\"binary_image.jpg\")\n",
    "    \n",
    "    \n",
    "    #result image\n",
    "    cv2.imwrite(\"resultado_final.jpg\", binary_image)\n",
    "    return(binary_image)"
   ]
  },
  {
   "cell_type": "code",
   "execution_count": 14,
   "metadata": {},
   "outputs": [],
   "source": [
    "binary = binarization(nm, 12)"
   ]
  },
  {
   "cell_type": "markdown",
   "metadata": {},
   "source": [
    "# Canny transformation completed\n",
    "\n",
    "<img src=\"resultado_final.jpg\" />\n"
   ]
  },
  {
   "cell_type": "code",
   "execution_count": null,
   "metadata": {},
   "outputs": [],
   "source": []
  }
 ],
 "metadata": {
  "kernelspec": {
   "display_name": "Python 3",
   "language": "python",
   "name": "python3"
  },
  "language_info": {
   "codemirror_mode": {
    "name": "ipython",
    "version": 3
   },
   "file_extension": ".py",
   "mimetype": "text/x-python",
   "name": "python",
   "nbconvert_exporter": "python",
   "pygments_lexer": "ipython3",
   "version": "3.7.3"
  }
 },
 "nbformat": 4,
 "nbformat_minor": 2
}
