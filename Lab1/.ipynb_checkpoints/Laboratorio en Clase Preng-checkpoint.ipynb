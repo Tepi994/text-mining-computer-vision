{
 "cells": [
  {
   "cell_type": "code",
   "execution_count": 43,
   "metadata": {},
   "outputs": [],
   "source": [
    "import cv2\n",
    "import numpy as np\n",
    "import sys\n",
    "import matplotlib.pyplot as plt\n",
    "import math"
   ]
  },
  {
   "cell_type": "markdown",
   "metadata": {},
   "source": [
    "## Histogram Equalization"
   ]
  },
  {
   "cell_type": "code",
   "execution_count": 2,
   "metadata": {},
   "outputs": [
    {
     "ename": "SystemExit",
     "evalue": "",
     "output_type": "error",
     "traceback": [
      "An exception has occurred, use %tb to see the full traceback.\n",
      "\u001b[1;31mSystemExit\u001b[0m\n"
     ]
    },
    {
     "name": "stderr",
     "output_type": "stream",
     "text": [
      "C:\\Users\\jctep\\Anaconda3\\lib\\site-packages\\IPython\\core\\interactiveshell.py:3304: UserWarning: To exit: use 'exit', 'quit', or Ctrl-D.\n",
      "  warn(\"To exit: use 'exit', 'quit', or Ctrl-D.\", stacklevel=1)\n"
     ]
    }
   ],
   "source": [
    "def main():\n",
    "    gray_image = cv2.imread(\"gray_scale_weighted.jpg\")     \n",
    "    cv2.imshow('Weighted grayscale image',gray_image)\n",
    "    cv2.waitKey(0)\n",
    "    cv2.destroyAllWindows()\n",
    "    sys.exit()\n",
    "main()"
   ]
  },
  {
   "cell_type": "code",
   "execution_count": 76,
   "metadata": {},
   "outputs": [],
   "source": [
    "def histogram_eq(img):\n",
    "    image = cv2.imread(img)\n",
    "    or_image = cv2.imread(img)\n",
    "    cv2.imshow(\"Original Image\",or_image)\n",
    "    image = cv2.cvtColor(image,cv2.COLOR_BGR2GRAY)\n",
    "    cv2.imshow(\"\",image)\n",
    "    height = image.shape[0]\n",
    "    width = image.shape[1]\n",
    "    #image_shape = image.shape()\n",
    "\n",
    "    \n",
    "    ####gray_scale histogram####\n",
    "    gray_scale_counts, gray_scale_bins = np.histogram(image, range(256))\n",
    "    plt.bar(gray_scale_bins[:-1] - 0.5, gray_scale_counts, width=1, edgecolor='none',color ='gray')\n",
    "    plt.axvline(image.mean(), color='k', linestyle='dashed', linewidth=2)\n",
    "    plt.xlim([-0.5, 255.5])\n",
    "    plt.title(\"Weighted Grayscale Channel Histogram\")\n",
    "    plt.show()\n",
    "    \n",
    "    \n",
    "    counts, bins = np.histogram(image, bins = np.arange(0,256))\n",
    "    cdf_un = np.cumsum(counts, dtype=float)\n",
    "    cdf=cdf_un/np.amax(cdf_un)\n",
    "    out = np.zeros((height,width,1))\n",
    "    \n",
    "    for i in range(0,height):\n",
    "        for j in range(0,width):\n",
    "            pixel = image[i,j]\n",
    "            #print(pixel)\n",
    "            out[i,j] = round(255*cdf[pixel-1],0)\n",
    "            #out[i,j] = 255*cdf[pixel]\n",
    "            #out[i,j]= np.multiply(pixel,cdf[pixel])\n",
    "     \n",
    "    \n",
    "     ####equalized histogram####\n",
    "    out_scale_counts, out_scale_bins = np.histogram(out, range(257))\n",
    "    plt.bar(out_scale_bins[:-1] - 0.5, out_scale_counts, width=1, edgecolor='none',color ='gray')\n",
    "    plt.axvline(out.mean(), color='k', linestyle='dashed', linewidth=2)\n",
    "    plt.xlim([-0.5, 255.5])\n",
    "    plt.title(\"Equalized Channel Histogram\")\n",
    "    plt.show()\n",
    "    \n",
    "    \n",
    "    \n",
    "    cv2.imwrite(\"g.jpg\",out)\n",
    "    gray_image = cv2.imread(\"g.jpg\")     \n",
    "    cv2.imshow('Equalized image',gray_image)\n",
    "    cv2.waitKey(0)\n",
    "    cv2.destroyAllWindows()\n",
    "    sys.exit()\n",
    "    \n",
    "            \n",
    "            "
   ]
  },
  {
   "cell_type": "code",
   "execution_count": 77,
   "metadata": {
    "scrolled": false
   },
   "outputs": [
    {
     "data": {
      "image/png": "[encoded data removed]",
      "text/plain": [
       "<Figure size 432x288 with 1 Axes>"
      ]
     },
     "metadata": {
      "needs_background": "light"
     },
     "output_type": "display_data"
    },
    {
     "ename": "IndexError",
     "evalue": "index 255 is out of bounds for axis 0 with size 255",
     "output_type": "error",
     "traceback": [
      "\u001b[1;31m---------------------------------------------------------------------------\u001b[0m",
      "\u001b[1;31mIndexError\u001b[0m                                Traceback (most recent call last)",
      "\u001b[1;32m<ipython-input-77-0fe3cc586f40>\u001b[0m in \u001b[0;36m<module>\u001b[1;34m\u001b[0m\n\u001b[1;32m----> 1\u001b[1;33m \u001b[0mhistogram_eq\u001b[0m\u001b[1;33m(\u001b[0m\u001b[1;34m\"car.jpg\"\u001b[0m\u001b[1;33m)\u001b[0m\u001b[1;33m\u001b[0m\u001b[1;33m\u001b[0m\u001b[0m\n\u001b[0m",
      "\u001b[1;32m<ipython-input-76-999c7d1324b3>\u001b[0m in \u001b[0;36mhistogram_eq\u001b[1;34m(img)\u001b[0m\n\u001b[0;32m     29\u001b[0m             \u001b[1;31m#print(pixel)\u001b[0m\u001b[1;33m\u001b[0m\u001b[1;33m\u001b[0m\u001b[1;33m\u001b[0m\u001b[0m\n\u001b[0;32m     30\u001b[0m             \u001b[1;31m#out[i,j] = round(255*cdf[pixel],0)\u001b[0m\u001b[1;33m\u001b[0m\u001b[1;33m\u001b[0m\u001b[1;33m\u001b[0m\u001b[0m\n\u001b[1;32m---> 31\u001b[1;33m             \u001b[0mout\u001b[0m\u001b[1;33m[\u001b[0m\u001b[0mi\u001b[0m\u001b[1;33m,\u001b[0m\u001b[0mj\u001b[0m\u001b[1;33m]\u001b[0m \u001b[1;33m=\u001b[0m \u001b[1;36m255\u001b[0m\u001b[1;33m*\u001b[0m\u001b[0mcdf\u001b[0m\u001b[1;33m[\u001b[0m\u001b[0mpixel\u001b[0m\u001b[1;33m]\u001b[0m\u001b[1;33m\u001b[0m\u001b[1;33m\u001b[0m\u001b[0m\n\u001b[0m\u001b[0;32m     32\u001b[0m             \u001b[1;31m#out[i,j]= np.multiply(pixel,cdf[pixel])\u001b[0m\u001b[1;33m\u001b[0m\u001b[1;33m\u001b[0m\u001b[1;33m\u001b[0m\u001b[0m\n\u001b[0;32m     33\u001b[0m \u001b[1;33m\u001b[0m\u001b[0m\n",
      "\u001b[1;31mIndexError\u001b[0m: index 255 is out of bounds for axis 0 with size 255"
     ]
    }
   ],
   "source": [
    "histogram_eq(\"car.jpg\")"
   ]
  },
  {
   "cell_type": "code",
   "execution_count": 74,
   "metadata": {},
   "outputs": [
    {
     "data": {
      "image/png": "[encoded data removed]",
      "text/plain": [
       "<Figure size 432x288 with 1 Axes>"
      ]
     },
     "metadata": {
      "needs_background": "light"
     },
     "output_type": "display_data"
    },
    {
     "data": {
      "image/png": "[encoded data removed]",
      "text/plain": [
       "<Figure size 432x288 with 1 Axes>"
      ]
     },
     "metadata": {
      "needs_background": "light"
     },
     "output_type": "display_data"
    },
    {
     "ename": "SystemExit",
     "evalue": "",
     "output_type": "error",
     "traceback": [
      "An exception has occurred, use %tb to see the full traceback.\n",
      "\u001b[1;31mSystemExit\u001b[0m\n"
     ]
    }
   ],
   "source": [
    "histogram_eq(\"atitlan.jpg\")"
   ]
  },
  {
   "cell_type": "code",
   "execution_count": 109,
   "metadata": {},
   "outputs": [
    {
     "data": {
      "text/plain": [
       "255"
      ]
     },
     "execution_count": 109,
     "metadata": {},
     "output_type": "execute_result"
    }
   ],
   "source": [
    "cdf[255]"
   ]
  },
  {
   "cell_type": "markdown",
   "metadata": {},
   "source": [
    "## Algoritmo de Canny"
   ]
  },
  {
   "cell_type": "code",
   "execution_count": 36,
   "metadata": {},
   "outputs": [],
   "source": [
    "def derivadaX(img):\n",
    "    image = cv2.imread(img)\n",
    "    image = cv2.cvtColor(image,cv2.COLOR_BGR2GRAY)\n",
    "    height = image.shape[0]\n",
    "    width = image.shape[1]\n",
    "    out = np.zeros((height,width,1))\n",
    "    \n",
    "    for i in range(0,height - 1):\n",
    "        for j in range(0,width):\n",
    "            out[i,j] = image[i+1,j] - image[i,j]\n",
    "    \n",
    "    return(out)\n",
    "            \n",
    "            "
   ]
  },
  {
   "cell_type": "code",
   "execution_count": 37,
   "metadata": {
    "scrolled": true
   },
   "outputs": [
    {
     "name": "stderr",
     "output_type": "stream",
     "text": [
      "C:\\Users\\jctep\\Anaconda3\\lib\\site-packages\\ipykernel_launcher.py:10: RuntimeWarning: overflow encountered in ubyte_scalars\n",
      "  # Remove the CWD from sys.path while we load stuff.\n"
     ]
    },
    {
     "data": {
      "text/plain": [
       "array([[[  1.],\n",
       "        [  1.],\n",
       "        [  1.],\n",
       "        ...,\n",
       "        [  0.],\n",
       "        [  0.],\n",
       "        [  0.]],\n",
       "\n",
       "       [[  0.],\n",
       "        [  0.],\n",
       "        [  0.],\n",
       "        ...,\n",
       "        [  1.],\n",
       "        [  1.],\n",
       "        [  1.]],\n",
       "\n",
       "       [[  1.],\n",
       "        [  1.],\n",
       "        [  1.],\n",
       "        ...,\n",
       "        [  0.],\n",
       "        [  0.],\n",
       "        [  0.]],\n",
       "\n",
       "       ...,\n",
       "\n",
       "       [[  0.],\n",
       "        [  0.],\n",
       "        [  0.],\n",
       "        ...,\n",
       "        [254.],\n",
       "        [254.],\n",
       "        [254.]],\n",
       "\n",
       "       [[  0.],\n",
       "        [  0.],\n",
       "        [  0.],\n",
       "        ...,\n",
       "        [  0.],\n",
       "        [  0.],\n",
       "        [  0.]],\n",
       "\n",
       "       [[  0.],\n",
       "        [  0.],\n",
       "        [  0.],\n",
       "        ...,\n",
       "        [  0.],\n",
       "        [  0.],\n",
       "        [  0.]]])"
      ]
     },
     "execution_count": 37,
     "metadata": {},
     "output_type": "execute_result"
    }
   ],
   "source": [
    "derivadaX(\"atitlan.jpg\")"
   ]
  },
  {
   "cell_type": "code",
   "execution_count": 38,
   "metadata": {},
   "outputs": [],
   "source": [
    "def derivadaY(img):\n",
    "    image = cv2.imread(img)\n",
    "    image = cv2.cvtColor(image,cv2.COLOR_BGR2GRAY)\n",
    "    height = image.shape[0]\n",
    "    width = image.shape[1]\n",
    "    out = np.zeros((height,width,1))\n",
    "    \n",
    "    for i in range(0,height):\n",
    "        for j in range(0,width-1):\n",
    "            out[i,j] = image[i,j+1] - image[i,j]\n",
    "    \n",
    "    return(out)\n",
    "            \n",
    "            "
   ]
  },
  {
   "cell_type": "code",
   "execution_count": 39,
   "metadata": {},
   "outputs": [
    {
     "name": "stderr",
     "output_type": "stream",
     "text": [
      "C:\\Users\\jctep\\Anaconda3\\lib\\site-packages\\ipykernel_launcher.py:10: RuntimeWarning: overflow encountered in ubyte_scalars\n",
      "  # Remove the CWD from sys.path while we load stuff.\n"
     ]
    },
    {
     "data": {
      "text/plain": [
       "array([[[0.],\n",
       "        [0.],\n",
       "        [0.],\n",
       "        ...,\n",
       "        [0.],\n",
       "        [0.],\n",
       "        [0.]],\n",
       "\n",
       "       [[0.],\n",
       "        [0.],\n",
       "        [0.],\n",
       "        ...,\n",
       "        [0.],\n",
       "        [0.],\n",
       "        [0.]],\n",
       "\n",
       "       [[0.],\n",
       "        [0.],\n",
       "        [0.],\n",
       "        ...,\n",
       "        [0.],\n",
       "        [0.],\n",
       "        [0.]],\n",
       "\n",
       "       ...,\n",
       "\n",
       "       [[0.],\n",
       "        [0.],\n",
       "        [0.],\n",
       "        ...,\n",
       "        [0.],\n",
       "        [0.],\n",
       "        [0.]],\n",
       "\n",
       "       [[0.],\n",
       "        [0.],\n",
       "        [0.],\n",
       "        ...,\n",
       "        [0.],\n",
       "        [0.],\n",
       "        [0.]],\n",
       "\n",
       "       [[0.],\n",
       "        [0.],\n",
       "        [0.],\n",
       "        ...,\n",
       "        [0.],\n",
       "        [0.],\n",
       "        [0.]]])"
      ]
     },
     "execution_count": 39,
     "metadata": {},
     "output_type": "execute_result"
    }
   ],
   "source": [
    "derivadaY(\"atitlan.jpg\")"
   ]
  },
  {
   "cell_type": "code",
   "execution_count": 40,
   "metadata": {},
   "outputs": [],
   "source": [
    "def gradient(derX,derY):\n",
    "    gradient = np.sqrt(derX**2 + derY**2)\n",
    "    return gradient"
   ]
  },
  {
   "cell_type": "code",
   "execution_count": 42,
   "metadata": {},
   "outputs": [
    {
     "name": "stderr",
     "output_type": "stream",
     "text": [
      "C:\\Users\\jctep\\Anaconda3\\lib\\site-packages\\ipykernel_launcher.py:10: RuntimeWarning: overflow encountered in ubyte_scalars\n",
      "  # Remove the CWD from sys.path while we load stuff.\n"
     ]
    },
    {
     "data": {
      "text/plain": [
       "5.0"
      ]
     },
     "execution_count": 42,
     "metadata": {},
     "output_type": "execute_result"
    }
   ],
   "source": [
    "dX = derivadaX(\"atitlan.jpg\")\n",
    "dY = derivadaY(\"atitlan.jpg\")\n",
    "gradient(np.sqrt(5),np.sqrt(20))"
   ]
  },
  {
   "cell_type": "code",
   "execution_count": 51,
   "metadata": {},
   "outputs": [],
   "source": [
    "def phase(derX,derY):\n",
    "    height = derX.shape[0]\n",
    "    width = derY.shape[1]\n",
    "    out = np.zeros((height,width,1))\n",
    "    \n",
    "    for i in range(0,height):\n",
    "        for j in range(0,width):\n",
    "            out[i,j] = np.where(\n",
    "                math.atan2(derX[i,j],derY[i,j])*(180/np.pi)<0,\n",
    "                math.atan2(derX[i,j],derY[i,j])*(180/np.pi)+360,\n",
    "                math.atan2(derX[i,j],derY[i,j])*(180/np.pi)\n",
    "            )\n",
    "    return out"
   ]
  },
  {
   "cell_type": "code",
   "execution_count": 53,
   "metadata": {},
   "outputs": [
    {
     "data": {
      "text/plain": [
       "90.0"
      ]
     },
     "execution_count": 53,
     "metadata": {},
     "output_type": "execute_result"
    }
   ],
   "source": [
    "np.max(phase(dX,dY))"
   ]
  },
  {
   "cell_type": "markdown",
   "metadata": {},
   "source": [
    "## Non Maximun Suppresion "
   ]
  },
  {
   "cell_type": "code",
   "execution_count": null,
   "metadata": {},
   "outputs": [],
   "source": []
  }
 ],
 "metadata": {
  "kernelspec": {
   "display_name": "Python 3",
   "language": "python",
   "name": "python3"
  },
  "language_info": {
   "codemirror_mode": {
    "name": "ipython",
    "version": 3
   },
   "file_extension": ".py",
   "mimetype": "text/x-python",
   "name": "python",
   "nbconvert_exporter": "python",
   "pygments_lexer": "ipython3",
   "version": "3.7.3"
  }
 },
 "nbformat": 4,
 "nbformat_minor": 2
}
